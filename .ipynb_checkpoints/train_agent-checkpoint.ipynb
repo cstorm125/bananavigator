{
 "cells": [
  {
   "cell_type": "markdown",
   "metadata": {},
   "source": [
    "# Bananavigator"
   ]
  },
  {
   "cell_type": "markdown",
   "metadata": {},
   "source": [
    "Bananavigator is a Q-learning agent trained to play [Unity ML-Agent Toolkit](https://github.com/Unity-Technologies/ml-agents)'s [Banan Collector](https://www.youtube.com/watch?v=heVMs3t9qSk). We train a single agent to collect the most `yellow` bananas (+1) as possible while avoiding `blue` bananas (-1). We augmented [vanilla DQN](https://www.cs.toronto.edu/~vmnih/docs/dqn.pdf) with [DDQN](https://arxiv.org/abs/1509.06461), [Dueling Networks](https://arxiv.org/abs/1511.06581), [Prioritized Experience Replay](https://arxiv.org/abs/1511.05952), and [Noisy Networks for Exploration](https://arxiv.org/abs/1706.10295). The model solved the environment (scoring a 100-play moving average of 13 or above) in under 200 episodes, 9 times faster than the [benchmark implementation](https://classroom.udacity.com/nanodegrees/nd893/parts/6b0c03a7-6667-4fcf-a9ed-dd41a2f76485/modules/4eeb16ab-5ac5-47bf-974d-12784e9730d7/lessons/69bd42c6-b70e-4866-9764-9bfa8c03cdea/concepts/0df81599-d934-4dfb-860c-22f723129795). The weights of trained Q-network are saved as `half_rainbow.m`."
   ]
  },
  {
   "cell_type": "markdown",
   "metadata": {},
   "source": [
    "## Setup ML-Agent Toolkit"
   ]
  },
  {
   "cell_type": "code",
   "execution_count": 1,
   "metadata": {},
   "outputs": [],
   "source": [
    "!pip -q install ./python"
   ]
  },
  {
   "cell_type": "markdown",
   "metadata": {},
   "source": [
    "## Imports"
   ]
  },
  {
   "cell_type": "markdown",
   "metadata": {},
   "source": [
    "We import "
   ]
  },
  {
   "cell_type": "code",
   "execution_count": 2,
   "metadata": {},
   "outputs": [],
   "source": [
    "import numpy as np\n",
    "from tqdm import trange\n",
    "import matplotlib.pyplot as plt\n",
    "from datetime import datetime\n",
    "\n",
    "#unity agent\n",
    "from unityagents import UnityEnvironment\n",
    "\n",
    "#torch\n",
    "import torch\n",
    "import torch.nn as nn\n",
    "import torch.nn.functional as F\n",
    "from torch import optim\n",
    "device = torch.device(\"cuda:0\" if torch.cuda.is_available() else \"cpu\")\n",
    "\n",
    "#utils\n",
    "from qnetwork import *\n",
    "from replay_memory import *\n",
    "from agent import Agent"
   ]
  },
  {
   "cell_type": "markdown",
   "metadata": {},
   "source": [
    "## Environment"
   ]
  },
  {
   "cell_type": "markdown",
   "metadata": {},
   "source": [
    "The environment consists of 37 values for a state and 4 available actions. The state represents the agent's velocity and ray-based perception of objects around the agent's forward direction. The actions are move forward, move backward, turn left and turn right respectively"
   ]
  },
  {
   "cell_type": "code",
   "execution_count": 3,
   "metadata": {},
   "outputs": [
    {
     "name": "stderr",
     "output_type": "stream",
     "text": [
      "INFO:unityagents:\n",
      "'Academy' started successfully!\n",
      "Unity Academy name: Academy\n",
      "        Number of Brains: 1\n",
      "        Number of External Brains : 1\n",
      "        Lesson number : 0\n",
      "        Reset Parameters :\n",
      "\t\t\n",
      "Unity brain name: BananaBrain\n",
      "        Number of Visual Observations (per agent): 0\n",
      "        Vector Observation space type: continuous\n",
      "        Vector Observation space size (per agent): 37\n",
      "        Number of stacked Vector Observation: 1\n",
      "        Vector Action space type: discrete\n",
      "        Vector Action space size (per agent): 4\n",
      "        Vector Action descriptions: , , , \n"
     ]
    }
   ],
   "source": [
    "env = UnityEnvironment(file_name=\"/data/Banana_Linux_NoVis/Banana.x86_64\")"
   ]
  },
  {
   "cell_type": "code",
   "execution_count": 4,
   "metadata": {},
   "outputs": [],
   "source": [
    "brain_name = env.brain_names[0]\n",
    "brain = env.brains[brain_name]"
   ]
  },
  {
   "cell_type": "code",
   "execution_count": 5,
   "metadata": {},
   "outputs": [
    {
     "name": "stdout",
     "output_type": "stream",
     "text": [
      "Number of agents: 1\n",
      "Number of actions: 4\n",
      "States look like: [ 1.          0.          0.          0.          0.84408134  0.          0.\n",
      "  1.          0.          0.0748472   0.          1.          0.          0.\n",
      "  0.25755     1.          0.          0.          0.          0.74177343\n",
      "  0.          1.          0.          0.          0.25854847  0.          0.\n",
      "  1.          0.          0.09355672  0.          1.          0.          0.\n",
      "  0.31969345  0.          0.        ]\n",
      "States have length: 37\n"
     ]
    }
   ],
   "source": [
    "# reset the environment\n",
    "env_info = env.reset(train_mode=True)[brain_name]\n",
    "\n",
    "# number of agents in the environment\n",
    "print('Number of agents:', len(env_info.agents))\n",
    "\n",
    "# number of actions\n",
    "action_size = brain.vector_action_space_size\n",
    "print('Number of actions:', action_size)\n",
    "\n",
    "# examine the state space \n",
    "state = env_info.vector_observations[0]\n",
    "print('States look like:', state)\n",
    "state_size = len(state)\n",
    "print('States have length:', state_size)"
   ]
  },
  {
   "cell_type": "markdown",
   "metadata": {},
   "source": [
    "## Agent"
   ]
  },
  {
   "cell_type": "markdown",
   "metadata": {},
   "source": [
    "We adopted the Q-learning framework used in the [Udacity DRL Nanodegree](https://github.com/udacity/deep-reinforcement-learning/tree/master/dqn/) and made some enhancements to the agent, networks, and replay memory."
   ]
  },
  {
   "cell_type": "markdown",
   "metadata": {},
   "source": [
    "### Vanilla Deep Q-learning"
   ]
  },
  {
   "cell_type": "markdown",
   "metadata": {},
   "source": [
    "The first DQN paper has two notable contributions. First, it used experience replay to store transitions and occasionally sample them in batches for the Q-networks to learn using a uniform distribution. This solve the problem of correlations among consecutive transitions (the case where during a set of states, it is always better to do some actions then the agent will keep doing that). Second, it implements a target Q-network in order to avoid the network always learning from a moving target. The loss to optimized is written as follows:\n",
    "\n",
    "$$L_{local,t} = E\\biggl[\\biggl(R_{t+1} + \\gamma\\underset{a}{\\operatorname{max}}Q_{target}(S_{t+1},a) - Q_{local}(S_{t+1},a)\\biggl)^2\\biggl]$$\n",
    "\n",
    "Our implementation is divided as follows:\n",
    "* `replay_memory.py` - Experience Replay Memory\n",
    "* `agent.py` - Agent\n",
    "* `qnetwork` - Q-networks for local and target"
   ]
  },
  {
   "cell_type": "markdown",
   "metadata": {},
   "source": [
    "### Double Deep Q-learning"
   ]
  },
  {
   "cell_type": "markdown",
   "metadata": {},
   "source": [
    "In vanilla DQN, we calculate the target Q-values by choosing the actions that maximize those values using the same function $Q_{target}$. This has been shown to result in overestimation of the target Q-values. DDQN alleviates this problem by using $Q_local$ to choose the actions, then use $Q_target$ to evaluate them:\n",
    "\n",
    "$$L_{local,t} = E\\biggl[\\biggl(R_{t+1} + \\gamma Q_{target}(S_{t+1},\\underset{a}{\\operatorname{argmax}}Q_{local}(S_{t+1},a)) - Q_{local}(S_{t+1},a)\\biggl)^2\\biggl]$$\n",
    "\n",
    "We incorporate this into the code (see `agent.py`) as follow:"
   ]
  },
  {
   "cell_type": "code",
   "execution_count": 6,
   "metadata": {},
   "outputs": [],
   "source": [
    "#agent.py\n",
    "# max_actions_next = self.qnetwork_local(next_states).detach().max(1)[1].unsqueeze(1)\n",
    "# q_targets_next = self.qnetwork_target(next_states).detach().gather(1, max_actions_next.long())\n",
    "# #compute loss\n",
    "# q_targets = rewards + (gamma * q_targets_next) * (1 - dones)\n",
    "# q_expected = self.qnetwork_local(states).gather(1, actions.long())\n",
    "# loss = self.vanilla_loss(q_expected, q_targets)"
   ]
  },
  {
   "cell_type": "markdown",
   "metadata": {},
   "source": [
    "### Dueling Networks"
   ]
  },
  {
   "cell_type": "markdown",
   "metadata": {},
   "source": [
    "Instead of the simple 1-hidden layer architecture, we opted for the Dueling Network architecture. This architecture essential has three important parts:\n",
    "\n",
    "1. Feature extraction stream - a set of linear and ReLu layers that takes input of state (`batch_size` * `state_size`) and output a number of hidden layers (`batch_size` * `nb_hidden`)\n",
    "2. Value stream - a set of linear and ReLu layers that takes input from the feature extraction stream (`batch_size` * `nb_hidden`) and output number of actions (`batch_size` * `action_size`)\n",
    "3. Advantage stream - a set of linear and ReLu layers that takes input from the feature extraction stream (`batch_size` * `nb_hidden`) and output a single advantage (`batch_size` * `1`)\n",
    "\n",
    "We combine the result of 2. and 3. in the following manner:\n",
    "\n",
    "$$Q(s,a) = V(s) + A(s,a) - \\frac{1}{|A|}\\sum_{a'}A(s,a')$$\n",
    "\n",
    "where\n",
    "* $V(s)$ is the value function given state $s$ \n",
    "* $A(s,a)$ is the advantage function given state $s$  and action $a$. Advantage highlights the actions which should be immediately important; for instance, when the agent is about to collide with a `blue` banana, it should only care about moving backward and turning but not moving forward."
   ]
  },
  {
   "cell_type": "code",
   "execution_count": 7,
   "metadata": {},
   "outputs": [],
   "source": [
    "#qnetwork.py\n",
    "# def forward(self, state):\n",
    "#     x = self.feature(state)\n",
    "#     adv = self.advantage(x)\n",
    "#     val = self.value(x)\n",
    "#     result = adv + val - adv.mean() \n",
    "#     return(result)"
   ]
  },
  {
   "cell_type": "markdown",
   "metadata": {},
   "source": [
    "### Prioritized Experience Replay"
   ]
  },
  {
   "cell_type": "markdown",
   "metadata": {},
   "source": [
    "Instead of randomly sampling batches of transitions to train the Q-networks, we selectively sample them according to how much the models learn from them, that is, the size of losses generated by learning from those transitions (see `replay_memory.PrioritizedMemory`). All new transitions are added with the highest priority:"
   ]
  },
  {
   "cell_type": "code",
   "execution_count": 8,
   "metadata": {},
   "outputs": [],
   "source": [
    "#replay_memory.py\n",
    "# max_prior = max(self.priority) if self.memory else 1.\n",
    "# t = Transition(*args)\n",
    "# self.memory.append(t)\n",
    "# #give latest transition max priority for optimistic start\n",
    "# self.priority.append(max_prior)"
   ]
  },
  {
   "cell_type": "markdown",
   "metadata": {},
   "source": [
    "After the model trained on sampled transitions, we update the priorities of those transitions with the losses. "
   ]
  },
  {
   "cell_type": "code",
   "execution_count": 9,
   "metadata": {},
   "outputs": [],
   "source": [
    "#replay_memory.py\n",
    "# def update_priority(self,idx,losses):\n",
    "#     for i, l in zip(idx, losses):\n",
    "#         self.priority[i] = l.data"
   ]
  },
  {
   "cell_type": "markdown",
   "metadata": {},
   "source": [
    "Every time we sample a batch of transitions, we recalculate the sampling probability from to save a little bit of computation (since we only sample transitions and learn every `update_interval`. The priorities are converted to probabilities as follows:\n",
    "\n",
    "$$P_i = \\frac{p_i^\\alpha}{\\Sigma}p_i^\\alpha$$\n",
    "\n",
    "where \n",
    "* $\\alpha$ is the smoothing parameter (uniform sampling is when $\\alpha=0$); original paper suggested 0.6 as optimal value\n",
    "* $P_i$ is probability of transition $i$\n",
    "* $p_i$ is priority of transition $i$"
   ]
  },
  {
   "cell_type": "code",
   "execution_count": 10,
   "metadata": {},
   "outputs": [],
   "source": [
    "#replay_memory.py\n",
    "# def prior_to_prob(self):\n",
    "#     probs = np.array([i**self.alpha for i in self.priority]) #uniform sampling when alpha is 0\n",
    "#     self.probs[range(len(self.priority))] = probs\n",
    "#     self.probs /= np.sum(self.probs)"
   ]
  },
  {
   "cell_type": "markdown",
   "metadata": {},
   "source": [
    "Since we are selectively sampling the transitions, we need to adjust our losses in order to compensate for this otherwise the higher losses as a result of \"more difficult\" transitions will make the training unstable. We use weighted importance sampling by multiplying the sampling weights to the squared-error losses before averaging them."
   ]
  },
  {
   "cell_type": "code",
   "execution_count": 11,
   "metadata": {},
   "outputs": [],
   "source": [
    "#agent.py\n",
    "# def wis_loss(self, q_expected, q_targets, idx, sampling_weights, small_e):\n",
    "#     losses = F.mse_loss(q_expected, q_targets, reduce=False).squeeze(1) * sampling_weights\n",
    "#     self.memory.update_priority(idx,losses+small_e)\n",
    "#     loss = losses.mean()\n",
    "#     return(loss)"
   ]
  },
  {
   "cell_type": "markdown",
   "metadata": {},
   "source": [
    "The sampling weights are calculated as follows:\n",
    "$$w_i = \\biggl(\\frac{1}{N*P_i}\\biggl)^\\beta$$\n",
    "where\n",
    "* $\\beta$ is the smoothing parameter ($\\beta$ = 1 means full compensation for the selective sampling)\n",
    "* $P_i$ is probability of transition $i$\n",
    "* $N$ is the number of transitions in the replay memory"
   ]
  },
  {
   "cell_type": "code",
   "execution_count": 12,
   "metadata": {},
   "outputs": [],
   "source": [
    "#replay_memory.py\n",
    "# sampling_weights = (len(self.memory)*self.probs[idx])**(-beta) #higher beta, higher compensation for prioritized sampling\n",
    "# sampling_weights = sampling_weights / np.max(sampling_weights) #normalize by max weight to always scale down\n",
    "# sampling_weights = torch.from_numpy(sampling_weights).float().to(device)"
   ]
  },
  {
   "cell_type": "markdown",
   "metadata": {},
   "source": [
    "We linearly scale $\\beta$ up from 0.4 to 1 as the training goes on as suggested by the original paper. This allows the model to learn faster during the early stages and prevent the loss from going out of control in the latter."
   ]
  },
  {
   "cell_type": "code",
   "execution_count": 24,
   "metadata": {},
   "outputs": [],
   "source": [
    "#agent.py\n",
    "def get_beta(i, beta_start = 0.4, beta_end = 1, beta_growth = 1.05):\n",
    "    beta = min(beta_start * (beta_growth ** i), beta_end)\n",
    "    return(beta)"
   ]
  },
  {
   "cell_type": "code",
   "execution_count": 25,
   "metadata": {},
   "outputs": [
    {
     "data": {
      "text/plain": [
       "[<matplotlib.lines.Line2D at 0x7f57f44cb208>]"
      ]
     },
     "execution_count": 25,
     "metadata": {},
     "output_type": "execute_result"
    },
    {
     "data": {
      "image/png": "[encoded data removed]",
      "text/plain": [
       "<matplotlib.figure.Figure at 0x7f57f4506780>"
      ]
     },
     "metadata": {},
     "output_type": "display_data"
    }
   ],
   "source": [
    "betas = [get_beta(i) for i in range(100)]\n",
    "plt.plot(betas)"
   ]
  },
  {
   "cell_type": "markdown",
   "metadata": {},
   "source": [
    "### Exploration"
   ]
  },
  {
   "cell_type": "markdown",
   "metadata": {},
   "source": [
    "We perform exploration by using epsilon greedy policy with linear scaling."
   ]
  },
  {
   "cell_type": "code",
   "execution_count": 21,
   "metadata": {},
   "outputs": [],
   "source": [
    "#agent.py\n",
    "def get_eps(i, eps_start = 0.9, eps_end = 0.01, eps_decay = 0.9):\n",
    "    eps = max(eps_start * (eps_decay ** i), eps_end)\n",
    "    return(eps)"
   ]
  },
  {
   "cell_type": "code",
   "execution_count": 22,
   "metadata": {},
   "outputs": [
    {
     "data": {
      "text/plain": [
       "[<matplotlib.lines.Line2D at 0x7f57f4564cc0>]"
      ]
     },
     "execution_count": 22,
     "metadata": {},
     "output_type": "execute_result"
    },
    {
     "data": {
      "image/png": "[encoded data removed]",
      "text/plain": [
       "<matplotlib.figure.Figure at 0x7f57f45790f0>"
      ]
     },
     "metadata": {},
     "output_type": "display_data"
    }
   ],
   "source": [
    "epses = [get_eps(i) for i in range(100)]\n",
    "plt.plot(epses)"
   ]
  },
  {
   "cell_type": "markdown",
   "metadata": {},
   "source": [
    "In addition, we add Noisy Linear layers to Value and Advantage streams of the Dueling Networks to encourage further exploration. The Noisy Linear layer involves adding factorized Gaussian noise to the weights and biases defined as follows:\n"
   ]
  },
  {
   "cell_type": "markdown",
   "metadata": {},
   "source": [
    "### Training"
   ]
  },
  {
   "cell_type": "markdown",
   "metadata": {},
   "source": [
    "Each episode of the environment consists of 300 transitions. Based on this, our choices of hyperparameters and their rationale are as follows:\n",
    "* `capacity` - We store ten last episodes as our replay memory.\n",
    "* `lr` - We decrease the learning rate by a factor of 4 as suggested by the experience replay paper.\n",
    "* `bs` - We tested and found that batch size of 64 has the right balance between faster learning and less overfitting by plotting the losses.\n",
    "* `nb_hidden` - We increase the number of hidden units to 128 since the state size is much larger than our previous problems.\n",
    "* `gamma` - Since most of the immediate results are 0, we optimize for discounted future rewards instead.\n",
    "* `tau` - We update the target Q-network every time an episode is finished.\n",
    "* `update_interval` - The local Q-network learns every 5 transition, that is 60 times per episode\n",
    "\n",
    "With this setup, we were able to solve the environment in under 200 episodes."
   ]
  },
  {
   "cell_type": "code",
   "execution_count": 15,
   "metadata": {},
   "outputs": [],
   "source": [
    "nb_transitions = 300\n",
    "mem = PrioritizedMemory(capacity = 3000)\n",
    "a = Agent(state_size = 37, action_size = 4, replay_memory = mem, seed = 1412,\n",
    "          lr = 1e-3 / 4, bs = 64, nb_hidden = 128,\n",
    "          gamma=0.99, tau= 1/nb_transitions, update_interval = 5) "
   ]
  },
  {
   "cell_type": "code",
   "execution_count": 16,
   "metadata": {
    "scrolled": true
   },
   "outputs": [
    {
     "name": "stderr",
     "output_type": "stream",
     "text": [
      " 38%|███▊      | 188/500 [15:09<23:21,  4.49s/it]"
     ]
    },
    {
     "name": "stdout",
     "output_type": "stream",
     "text": [
      "Solved at Play 188: 0:15:14.265352 Moving average: 13.07\n"
     ]
    },
    {
     "data": {
      "image/png": "[encoded data removed]",
      "text/plain": [
       "<matplotlib.figure.Figure at 0x7f57fc235b70>"
      ]
     },
     "metadata": {},
     "output_type": "display_data"
    }
   ],
   "source": [
    "scores = []\n",
    "moving_scores = []\n",
    "moving_nb = 100\n",
    "\n",
    "start_time = datetime.now()\n",
    "for i in trange(500):\n",
    "    env_info = env.reset(train_mode=True)[brain_name] \n",
    "    state = env_info.vector_observations[0]            \n",
    "    score = 0\n",
    "    #300 time steps per episode\n",
    "    timestep = 0\n",
    "    while True:\n",
    "        #select action\n",
    "        action = a.act(state,i)  \n",
    "\n",
    "        #step\n",
    "        env_info = env.step(action)[brain_name]        \n",
    "        next_state = env_info.vector_observations[0]   \n",
    "        reward = env_info.rewards[0]                   \n",
    "        done = env_info.local_done[0]                  \n",
    "\n",
    "        a.step(state,action,reward,next_state,done,i)\n",
    "          \n",
    "        score += reward                                \n",
    "        state = next_state                          \n",
    "        if done: break\n",
    "            \n",
    "    #append scores\n",
    "    scores.append(score)\n",
    "    if i > moving_nb:\n",
    "        moving_score = np.mean(scores[i-moving_nb:i])\n",
    "        moving_scores.append(moving_score)\n",
    "    else:\n",
    "        moving_scores.append(0)\n",
    "\n",
    "    if i % 101 == 0: \n",
    "#         print(f'Play {i}: {datetime.now() - start_time} Moving average: {moving_scores[-1]}')\n",
    "        plt.clf()\n",
    "        plt.plot(scores)\n",
    "        plt.plot(moving_scores)\n",
    "        \n",
    "    #solved at 13\n",
    "    if moving_scores[-1] > 13: \n",
    "        print(f'Solved at Play {i}: {datetime.now() - start_time} Moving average: {moving_scores[-1]}')\n",
    "        break"
   ]
  },
  {
   "cell_type": "code",
   "execution_count": 17,
   "metadata": {},
   "outputs": [
    {
     "data": {
      "text/plain": [
       "[<matplotlib.lines.Line2D at 0x7f57f45ca8d0>]"
      ]
     },
     "execution_count": 17,
     "metadata": {},
     "output_type": "execute_result"
    },
    {
     "data": {
      "image/png": "[encoded data removed]",
      "text/plain": [
       "<matplotlib.figure.Figure at 0x7f57ffabd748>"
      ]
     },
     "metadata": {},
     "output_type": "display_data"
    }
   ],
   "source": [
    "plt.plot(a.losses)"
   ]
  },
  {
   "cell_type": "markdown",
   "metadata": {},
   "source": [
    "## Save Model Weights"
   ]
  },
  {
   "cell_type": "code",
   "execution_count": 18,
   "metadata": {},
   "outputs": [],
   "source": [
    "PATH = 'half_rainbow.m'\n",
    "#save\n",
    "torch.save(a.qnetwork_local.state_dict(), PATH)\n",
    "#load\n",
    "a.qnetwork_local.load_state_dict(torch.load(PATH))\n",
    "a.qnetwork_target.load_state_dict(torch.load(PATH))"
   ]
  },
  {
   "cell_type": "markdown",
   "metadata": {},
   "source": [
    "## Future Works"
   ]
  },
  {
   "cell_type": "markdown",
   "metadata": {},
   "source": [
    "We have achieved a performance level much better than the vanilla DQN baseline but believe still very far from humans, as even a toddler would not need to play 300 times to solve the environment. Here are some ideas we for future improvements:\n",
    "1. **Complete the Rainbow** - We can further integrate Distributional RL and multi-step rewards in order to achieve the Rainbow implementation.\n",
    "2. **Optimized Replay Memory** - We have seen that larger replay memories tend to make the agent learn faster in terms of episodes at the cost of computational time. We can use more efficient data structure to store transitions and decrease this overhead.\n",
    "3. **Experiment with Networks** - We can experiment with adding other layers such as batch normalization and dropout layers which are useful for convergence in supervised learning. Our initial attempts here failed and the augmented networks seem to perform worse but with the right hyperparameters, including optimization regimes, we should be able to get it to work."
   ]
  },
  {
   "cell_type": "code",
   "execution_count": null,
   "metadata": {},
   "outputs": [],
   "source": []
  }
 ],
 "metadata": {
  "kernelspec": {
   "display_name": "Python 3",
   "language": "python",
   "name": "python3"
  },
  "language_info": {
   "codemirror_mode": {
    "name": "ipython",
    "version": 3
   },
   "file_extension": ".py",
   "mimetype": "text/x-python",
   "name": "python",
   "nbconvert_exporter": "python",
   "pygments_lexer": "ipython3",
   "version": "3.6.3"
  }
 },
 "nbformat": 4,
 "nbformat_minor": 2
}
